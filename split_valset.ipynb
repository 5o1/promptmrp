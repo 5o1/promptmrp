{
 "cells": [
  {
   "cell_type": "code",
   "execution_count": 17,
   "metadata": {},
   "outputs": [
    {
     "name": "stdout",
     "output_type": "stream",
     "text": [
      "277 files was found in /home/hulabdl/CMRxRecon2025/val/\n",
      "每个字段包含的标签以及对应的样本数:\n",
      "[acquisition] Mapping:68,  Flow2d:4,  T1w:8,  Cine:108,  Perfusion:5,  LGE:63,  T2w:14,  T1rho:5,  BlackBlood:2, \n",
      "[setname] TrainingSet:277, \n",
      "[datatype] FullSample:277, \n",
      "[center] Center002:38,  Center006:48,  Center003:39,  Center005:58,  Center001:71,  Center007:23, \n",
      "[device] Siemens_30T_CIMA.X:20,  Siemens_30T_Prisma:44,  UIH_30T_umr880:57,  Siemens_30T_Vida:15,  UIH_30T_umr780:71,  UIH_15T_umr670:45,  UIH_30T_umr790:14,  Siemens_15T_Sola:10,  Siemens_15T_Avanto:1, \n",
      "[patientid] P003:10,  P020:14,  P005:12,  P017:9,  P004:9,  P032:3,  P054:2,  P024:10,  P022:2,  P014:11,  P018:6,  P040:2,  P034:4,  P007:11,  P026:1,  P015:8,  P019:9,  P039:1,  P008:10,  P056:2,  P025:3,  P002:20,  P009:16,  P011:9,  P031:3,  P016:3,  P013:10,  P012:8,  P049:2,  P028:3,  P006:10,  P023:6,  P035:3,  P021:3,  P001:10,  P043:2,  P030:1,  P027:3,  P057:3,  P010:8,  P061:2,  P058:2,  P038:1,  P051:1,  P055:2,  P060:1,  P033:2,  P046:2,  P044:1,  P053:1, \n",
      "[basename] T1map:30,  flow2d:4,  T1w:8,  cine_lax:7,  perfusion:5,  cine_lax_3ch:14,  cine_sax:36,  lge_lax_2ch:19,  lge_lax_4ch:17,  cine_lax_2ch:17,  T2w:14,  T1mappost:10,  lge_lax:6,  T2map:26,  T1rho:5,  lge_sax:19,  T2smap:2,  cine_lax_4ch:24,  cine_rvot:1,  blackblood:2,  cine_ot:8,  lge_lax_3ch:2,  cine_lvot:1, \n"
     ]
    }
   ],
   "source": [
    "# 根据文件名的模式整理分组列表\n",
    "\n",
    "from glob import glob\n",
    "import os\n",
    "import re\n",
    "\n",
    "\n",
    "src = \"/home/hulabdl/CMRxRecon2025/val/\" # 输入路径是已经二分为train和val的其中的val目录的路径, 该路径下应该包含val的软链接文件\n",
    "assert os.path.isdir(src), '目录不存在'\n",
    "\n",
    "files = glob(os.path.join(src, '*.h5'))\n",
    "\n",
    "print(f'{len(files)} files was found in {src}')\n",
    "\n",
    "groups = {\n",
    "    \"acquisition\":{},\n",
    "    \"setname\":{},\n",
    "    \"datatype\":{},\n",
    "    \"center\":{},\n",
    "    \"device\":{},\n",
    "    \"patientid\":{},\n",
    "    \"basename\":{},\n",
    "}\n",
    "\n",
    "for file in files:\n",
    "    filename = os.path.basename(file)\n",
    "\n",
    "    pattern = r\"^(.*?)@(.*?)@(.*?)@(.*?)@(.*?)@(.*?)@(.*?)\\.h5$\"\n",
    "\n",
    "    match = re.match(pattern, filename)\n",
    "\n",
    "    if match:\n",
    "        fields = match.groups()\n",
    "        groups[\"acquisition\"].setdefault(fields[0], []).append(file)\n",
    "        groups[\"setname\"].setdefault(fields[1], []).append(file)\n",
    "        groups[\"datatype\"].setdefault(fields[2], []).append(file)\n",
    "        groups[\"center\"].setdefault(fields[3], []).append(file)\n",
    "        groups[\"device\"].setdefault(fields[4], []).append(file)\n",
    "        groups[\"patientid\"].setdefault(fields[5], []).append(file)\n",
    "        groups[\"basename\"].setdefault(fields[6], []).append(file)\n",
    "\n",
    "    else:\n",
    "        raise ValueError(f\"Filename '{filename}' does not match the expected pattern.\")\n",
    "\n",
    "\n",
    "print(\"每个字段包含的标签以及对应的样本数:\")\n",
    "for groupname, group in groups.items():\n",
    "    print(f\"[{groupname}]\", end='')\n",
    "    for clazzname, clazz in group.items():\n",
    "        print(f\" {clazzname}:{len(clazz)}, \", end='')\n",
    "    print()\n"
   ]
  },
  {
   "cell_type": "code",
   "execution_count": null,
   "metadata": {},
   "outputs": [
    {
     "name": "stdout",
     "output_type": "stream",
     "text": [
      "验证集0中有5个文件\n",
      "验证集1中有5个文件\n",
      "分组完成\n"
     ]
    }
   ],
   "source": [
    "# 分组\n",
    "import os\n",
    "\n",
    "tgt = \"/home/hulabdl/CMRxRecon2025/\"\n",
    "assert os.path.isdir(tgt), '目录不存在'\n",
    "\n",
    "groupconditions = []\n",
    "\n",
    "# 示例\n",
    "groupconditions.append({\n",
    "    \"acquisition\": ['LGE', 'Cine', 'Flow2d',  ] # 第1组\n",
    "})\n",
    "\n",
    "groupconditions.append({\n",
    "    \"acquisition\": ['Mapping', 'T1w','T2w', 'T1rho', 'BlackBlood'] # 第2组\n",
    "})\n",
    "\n",
    "for valid in range(len(groupconditions)):\n",
    "    assert not os.path.isdir(os.path.join(tgt, f'group{valid}')), f'组{valid}的目录已经存在'\n",
    "\n",
    "for valid in range(len(groupconditions)):\n",
    "    os.makedirs(os.path.join(tgt, f'val{valid}'))\n",
    "    m = {}\n",
    "    for key, condition in groupconditions[valid].items():\n",
    "        assert key in groups.keys(), f\"groups has no key {key}\"\n",
    "        s = []\n",
    "        # 取并集\n",
    "        for clazz in condition:\n",
    "            assert clazz in groups[key].keys(), f\"groups{key} has no clazz {clazz}\"\n",
    "            s += groups[key][clazz]\n",
    "        m[key] = s\n",
    "    \n",
    "    # 取交集\n",
    "    valset = None\n",
    "    for key, s in m.items():\n",
    "        if valset is None:\n",
    "            valset = set(s)\n",
    "        else:\n",
    "            valset = valset.intersection(set(s))\n",
    "\n",
    "    valset = list(valset)[:5] # 控制每个验证集的样本数\n",
    "\n",
    "    print(f'验证集{valid}中有{len(valset)}个文件')\n",
    "    for file in valset:\n",
    "        realpath = os.path.realpath(file)\n",
    "        basename = os.path.basename(file)\n",
    "        os.symlink(realpath, os.path.join(tgt, f'val{valid}', basename))\n",
    "\n",
    "print(\"分组完成\")"
   ]
  }
 ],
 "metadata": {
  "kernelspec": {
   "display_name": "promptmr",
   "language": "python",
   "name": "python3"
  },
  "language_info": {
   "codemirror_mode": {
    "name": "ipython",
    "version": 3
   },
   "file_extension": ".py",
   "mimetype": "text/x-python",
   "name": "python",
   "nbconvert_exporter": "python",
   "pygments_lexer": "ipython3",
   "version": "3.10.16"
  }
 },
 "nbformat": 4,
 "nbformat_minor": 2
}
