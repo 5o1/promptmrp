{
 "cells": [
  {
   "cell_type": "code",
   "execution_count": 10,
   "metadata": {},
   "outputs": [
    {
     "name": "stdout",
     "output_type": "stream",
     "text": [
      "55 files was found in /nas-data/datasets/CMRxRecon2025/val/\n",
      "每个字段包含的标签以及对应的样本数:\n",
      "[acquisition] LGE:15,  Cine:21,  Flow2d:1,  Mapping:10,  T1w:3,  T2w:2,  T1rho:2,  BlackBlood:1, \n",
      "[setname] TrainingSet:55, \n",
      "[datatype] FullSample:55, \n",
      "[center] Center006:11,  Center007:3,  Center001:18,  Center002:7,  Center005:11,  Center003:5, \n",
      "[device] UIH_30T_umr790:4,  Siemens_30T_Vida:3,  Siemens_30T_Prisma:8,  UIH_30T_umr780:18,  UIH_30T_umr880:9,  UIH_15T_umr670:9,  Siemens_30T_CIMA.X:3,  Siemens_15T_Sola:1, \n",
      "[patientid] P002:8,  P038:1,  P021:1,  P024:2,  P009:6,  P013:1,  P014:4,  P054:1,  P011:3,  P020:4,  P015:2,  P017:1,  P046:2,  P010:2,  P004:1,  P040:1,  P006:1,  P032:1,  P023:1,  P018:1,  P056:2,  P008:1,  P019:1,  P049:1,  P012:1,  P035:1,  P001:2,  P061:1,  P033:1, \n",
      "[basename] lge_lax_4ch:3,  cine_lax_4ch:5,  cine_sax:10,  cine_lax_3ch:4,  flow2d:1,  lge_lax_2ch:7,  T1mappost:2,  lge_sax:3,  T2map:3,  T1w:3,  lge_lax:1,  T1map:4,  T2w:2,  T1rho:2,  T2smap:1,  cine_lax_2ch:1,  lge_lax_3ch:1,  cine_ot:1,  blackblood:1, \n"
     ]
    }
   ],
   "source": [
    "# 根据文件名的模式整理分组列表\n",
    "\n",
    "from glob import glob\n",
    "import os\n",
    "import re\n",
    "\n",
    "\n",
    "src = \"/nas-data/datasets/CMRxRecon2025/val/\" # 输入路径是已经二分为train和val的其中的val目录的路径, 该路径下应该包含val的软链接文件\n",
    "assert os.path.isdir(src), '目录不存在'\n",
    "\n",
    "files = glob(os.path.join(src, '*.h5'))\n",
    "\n",
    "print(f'{len(files)} files was found in {src}')\n",
    "\n",
    "groups = {\n",
    "    \"acquisition\":{},\n",
    "    \"setname\":{},\n",
    "    \"datatype\":{},\n",
    "    \"center\":{},\n",
    "    \"device\":{},\n",
    "    \"patientid\":{},\n",
    "    \"basename\":{},\n",
    "}\n",
    "\n",
    "for file in files:\n",
    "    filename = os.path.basename(file)\n",
    "\n",
    "    pattern = r\"^(.*?)@(.*?)@(.*?)@(.*?)@(.*?)@(.*?)@(.*?)\\.h5$\"\n",
    "\n",
    "    match = re.match(pattern, filename)\n",
    "\n",
    "    if match:\n",
    "        fields = match.groups()\n",
    "        groups[\"acquisition\"].setdefault(fields[0], []).append(file)\n",
    "        groups[\"setname\"].setdefault(fields[1], []).append(file)\n",
    "        groups[\"datatype\"].setdefault(fields[2], []).append(file)\n",
    "        groups[\"center\"].setdefault(fields[3], []).append(file)\n",
    "        groups[\"device\"].setdefault(fields[4], []).append(file)\n",
    "        groups[\"patientid\"].setdefault(fields[5], []).append(file)\n",
    "        groups[\"basename\"].setdefault(fields[6], []).append(file)\n",
    "\n",
    "    else:\n",
    "        raise ValueError(f\"Filename '{filename}' does not match the expected pattern.\")\n",
    "\n",
    "\n",
    "print(\"每个字段包含的标签以及对应的样本数:\")\n",
    "for groupname, group in groups.items():\n",
    "    print(f\"[{groupname}]\", end='')\n",
    "    for clazzname, clazz in group.items():\n",
    "        print(f\" {clazzname}:{len(clazz)}, \", end='')\n",
    "    print()\n"
   ]
  },
  {
   "cell_type": "code",
   "execution_count": 16,
   "metadata": {},
   "outputs": [
    {
     "name": "stdout",
     "output_type": "stream",
     "text": [
      "验证集0中有54个文件\n",
      "验证集1中有1个文件\n",
      "分组完成\n"
     ]
    }
   ],
   "source": [
    "# 分组\n",
    "import os\n",
    "\n",
    "tgt = \"/nas-data/datasets/CMRxRecon2025/\"\n",
    "assert os.path.isdir(tgt), '目录不存在'\n",
    "\n",
    "groupconditions = []\n",
    "\n",
    "# 示例\n",
    "groupconditions.append({\n",
    "    \"acquisition\": ['LGE', 'Cine', 'Flow2d', 'Mapping', 'T1w','T2w', 'T1rho'] # 第一组根据acquisition将['LGE', 'Cine', 'Flow2d', 'Mapping', 'T1w','T2w', 'T1rho']分为一组\n",
    "})\n",
    "\n",
    "groupconditions.append({\n",
    "    \"acquisition\": ['BlackBlood'] # 第二组只包含BlackBlood\n",
    "})\n",
    "\n",
    "for valid in range(len(groupconditions)):\n",
    "    assert not os.path.isdir(os.path.join(tgt, f'group{valid}')), f'组{valid}的目录已经存在'\n",
    "\n",
    "for valid in range(len(groupconditions)):\n",
    "    os.makedirs(os.path.join(tgt, f'val{valid}'))\n",
    "    m = {}\n",
    "    for key, condition in groupconditions[valid].items():\n",
    "        assert key in groups.keys(), f\"groups has no key {key}\"\n",
    "        s = []\n",
    "        # 取并集\n",
    "        for clazz in condition:\n",
    "            assert clazz in groups[key].keys(), f\"groups{key} has no clazz {clazz}\"\n",
    "            s += groups[key][clazz]\n",
    "        m[key] = s\n",
    "    \n",
    "    # 取交集\n",
    "    valset = None\n",
    "    for key, s in m.items():\n",
    "        if valset is None:\n",
    "            valset = set(s)\n",
    "        else:\n",
    "            valset = valset.intersection(set(s))\n",
    "\n",
    "    print(f'验证集{valid}中有{len(valset)}个文件')\n",
    "    for file in valset:\n",
    "        realpath = os.path.realpath(file)\n",
    "        basename = os.path.basename(file)\n",
    "        os.symlink(realpath, os.path.join(tgt, f'val{valid}', basename))\n",
    "\n",
    "print(\"分组完成\")"
   ]
  }
 ],
 "metadata": {
  "kernelspec": {
   "display_name": "promptmr",
   "language": "python",
   "name": "python3"
  },
  "language_info": {
   "codemirror_mode": {
    "name": "ipython",
    "version": 3
   },
   "file_extension": ".py",
   "mimetype": "text/x-python",
   "name": "python",
   "nbconvert_exporter": "python",
   "pygments_lexer": "ipython3",
   "version": "3.10.16"
  }
 },
 "nbformat": 4,
 "nbformat_minor": 2
}
