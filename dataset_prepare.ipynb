{
 "cells": [
  {
   "cell_type": "code",
   "execution_count": 2,
   "metadata": {},
   "outputs": [
    {
     "name": "stdout",
     "output_type": "stream",
     "text": [
      "数据集分割已完成，结果已保存到 configs/data_split/cmr25-cardiac.json\n"
     ]
    }
   ],
   "source": [
    "# step2: 生成数据集分割json\n",
    "\n",
    "import glob\n",
    "import json\n",
    "import os\n",
    "from sklearn.model_selection import train_test_split\n",
    "\n",
    "def generate_dataset_split_json(input_h5file_path, output_json_path=\"dataset_split.json\", test_size=0.2, random_seed=42):\n",
    "    \"\"\"\n",
    "    根据当前路径下的 .h5 文件生成数据集分割的 JSON 文件。\n",
    "    \n",
    "    Args:\n",
    "        output_json_path (str): 输出 JSON 文件的路径。\n",
    "        test_size (float): 验证集占比（默认为 0.2，即 20%）。\n",
    "        random_seed (int): 随机种子（默认为 42，保证可复现性）。\n",
    "    \"\"\"\n",
    "    # 获取当前路径下所有 .h5 文件的路径\n",
    "    h5_files = glob.glob(os.path.join(input_h5file_path, \"*.h5\"))\n",
    "    \n",
    "    # 检查是否有 .h5 文件\n",
    "    if not h5_files:\n",
    "        print(\"当前路径下没有找到任何 .h5 文件！\")\n",
    "        return\n",
    "\n",
    "    # 使用 train_test_split 进行数据集划分\n",
    "    train_files, val_files = train_test_split(h5_files, test_size=test_size, random_state=random_seed)\n",
    "\n",
    "    # 构造 JSON 数据\n",
    "    dataset_split = {\n",
    "        \"train\": train_files,\n",
    "        \"val\": val_files\n",
    "    }\n",
    "\n",
    "    # 将分割结果写入 JSON 文件\n",
    "    with open(output_json_path, \"w\") as json_file:\n",
    "        json.dump(dataset_split, json_file, indent=4)\n",
    "\n",
    "    print(f\"数据集分割已完成，结果已保存到 {output_json_path}\")\n",
    "\n",
    "# 调用函数\n",
    "generate_dataset_split_json(input_h5file_path=\"/home/hulabdl/CMRxRecon2025/h5_dataset\",\n",
    "                            output_json_path=\"configs/data_split/cmr25-cardiac.json\", test_size=0.2, random_seed=42)"
   ]
  }
 ],
 "metadata": {
  "kernelspec": {
   "display_name": "promptmr",
   "language": "python",
   "name": "python3"
  },
  "language_info": {
   "codemirror_mode": {
    "name": "ipython",
    "version": 3
   },
   "file_extension": ".py",
   "mimetype": "text/x-python",
   "name": "python",
   "nbconvert_exporter": "python",
   "pygments_lexer": "ipython3",
   "version": "3.10.16"
  }
 },
 "nbformat": 4,
 "nbformat_minor": 2
}
