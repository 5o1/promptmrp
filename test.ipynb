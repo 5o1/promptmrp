{
 "cells": [
  {
   "cell_type": "code",
   "execution_count": 10,
   "metadata": {},
   "outputs": [
    {
     "name": "stdout",
     "output_type": "stream",
     "text": [
      "<KeysViewHDF5 ['acc12_116x384', 'acc12_144x512', 'acc12_162x512', 'acc12_168x416', 'acc12_168x448', 'acc12_180x448', 'acc12_204x448', 'acc12_204x512', 'acc12_246x512', 'acc16_116x384', 'acc16_144x512', 'acc16_162x512', 'acc16_168x416', 'acc16_168x448', 'acc16_180x448', 'acc16_204x448', 'acc16_204x512', 'acc16_246x512', 'acc20_116x384', 'acc20_144x512', 'acc20_162x512', 'acc20_168x416', 'acc20_168x448', 'acc20_180x448', 'acc20_204x448', 'acc20_204x512', 'acc20_246x512', 'acc24_116x384', 'acc24_144x512', 'acc24_162x512', 'acc24_168x416', 'acc24_168x448', 'acc24_180x448', 'acc24_204x448', 'acc24_204x512', 'acc24_246x512', 'acc4_116x384', 'acc4_144x512', 'acc4_162x512', 'acc4_168x416', 'acc4_168x448', 'acc4_180x448', 'acc4_204x448', 'acc4_204x512', 'acc4_246x512', 'acc8_116x384', 'acc8_144x512', 'acc8_162x512', 'acc8_168x416', 'acc8_168x448', 'acc8_180x448', 'acc8_204x448', 'acc8_204x512', 'acc8_246x512']>\n",
      "(12, 204, 448)\n"
     ]
    }
   ],
   "source": [
    "import h5py\n",
    "\n",
    "path = '/home/hulabdl/CMRxRecon2025/mask_radial.h5'\n",
    "\n",
    "with h5py.File(path) as f:\n",
    "    print(f.keys())\n",
    "    print(f['acc16_204x448'][:].shape)"
   ]
  },
  {
   "cell_type": "code",
   "execution_count": 18,
   "metadata": {},
   "outputs": [
    {
     "name": "stdout",
     "output_type": "stream",
     "text": [
      "dict_keys(['kspace'])\n",
      "(4, 3, 10, 137, 382)\n"
     ]
    }
   ],
   "source": [
    "path='/home/hulabdl/CMRxRecon2025/ChallengeData/T1rho/TrainingSet/FullSample/Center001/UIH_30T_umr780/P002/T1rho.mat'\n",
    "\n",
    "import h5py\n",
    "from scipy.io import loadmat as loadmat_scipy\n",
    "\n",
    "def loadmat_group(group):\n",
    "    \"\"\"\n",
    "    Load a group in Matlab v7.3 format .mat file using h5py.\n",
    "    \"\"\"\n",
    "    data = {}\n",
    "    for k, v in group.items():\n",
    "        if isinstance(v, h5py.Dataset):\n",
    "            data[k] = v[()]\n",
    "        elif isinstance(v, h5py.Group):\n",
    "            data[k] = loadmat_group(v)\n",
    "    return data\n",
    "\n",
    "def loadmat(filename):\n",
    "    \"\"\"\n",
    "    Load Matlab v7.3 format .mat file using h5py.\n",
    "    \"\"\"\n",
    "    try:\n",
    "        with h5py.File(filename, 'r') as f:\n",
    "            data = {}\n",
    "            for k, v in f.items():\n",
    "                if isinstance(v, h5py.Dataset):\n",
    "                    data[k] = v[()]\n",
    "                elif isinstance(v, h5py.Group):\n",
    "                    data[k] = loadmat_group(v)\n",
    "    except OSError as e:\n",
    "        f = loadmat_scipy(filename)\n",
    "        data = {key: value for key, value in f.items() if not key.startswith('__')}\n",
    "    return data\n",
    "\n",
    "data = loadmat(path)\n",
    "print(data.keys())\n",
    "print(data['kspace'].shape)\n",
    "\n",
    "# from matplotlib import pyplot as plt\n",
    "# import numpy as np\n",
    "\n",
    "# print(np.sum(data['mask'][0], axis=0)[0]-21) \n",
    "# plt.imshow(data['mask'][0])\n",
    "# plt.show()"
   ]
  },
  {
   "cell_type": "code",
   "execution_count": 20,
   "metadata": {},
   "outputs": [
    {
     "name": "stdout",
     "output_type": "stream",
     "text": [
      "(150, 512)\n"
     ]
    }
   ],
   "source": [
    "path='/home/hulabdl/CMRxRecon2025/ChallengeData/MultiCoil/BlackBlood/TrainingSet/Mask_TaskAll/Center006/Siemens_30T_Prisma/P002/blackblood_mask_ktRadial16.mat'\n",
    "\n",
    "import h5py\n",
    "from scipy.io import loadmat as loadmat_scipy\n",
    "\n",
    "def loadmat_group(group):\n",
    "    \"\"\"\n",
    "    Load a group in Matlab v7.3 format .mat file using h5py.\n",
    "    \"\"\"\n",
    "    data = {}\n",
    "    for k, v in group.items():\n",
    "        if isinstance(v, h5py.Dataset):\n",
    "            data[k] = v[()]\n",
    "        elif isinstance(v, h5py.Group):\n",
    "            data[k] = loadmat_group(v)\n",
    "    return data\n",
    "\n",
    "def loadmat(filename):\n",
    "    \"\"\"\n",
    "    Load Matlab v7.3 format .mat file using h5py.\n",
    "    \"\"\"\n",
    "    try:\n",
    "        with h5py.File(filename, 'r') as f:\n",
    "            data = {}\n",
    "            for k, v in f.items():\n",
    "                if isinstance(v, h5py.Dataset):\n",
    "                    data[k] = v[()]\n",
    "                elif isinstance(v, h5py.Group):\n",
    "                    data[k] = loadmat_group(v)\n",
    "    except OSError as e:\n",
    "        f = loadmat_scipy(filename)\n",
    "        data = {key: value for key, value in f.items() if not key.startswith('__')}\n",
    "    return data\n",
    "\n",
    "data = loadmat(path)\n",
    "print(data['mask'].shape)"
   ]
  },
  {
   "cell_type": "code",
   "execution_count": 23,
   "metadata": {},
   "outputs": [
    {
     "name": "stdout",
     "output_type": "stream",
     "text": [
      "(248, 512)\n"
     ]
    }
   ],
   "source": [
    "path='/home/hulabdl/CMRxRecon2025/ChallengeData/MultiCoil/T1w/TrainingSet/Mask_TaskAll/Center003/UIH_30T_umr880/P004/T1w_mask_ktRadial16.mat'\n",
    "\n",
    "import h5py\n",
    "from scipy.io import loadmat as loadmat_scipy\n",
    "\n",
    "def loadmat_group(group):\n",
    "    \"\"\"\n",
    "    Load a group in Matlab v7.3 format .mat file using h5py.\n",
    "    \"\"\"\n",
    "    data = {}\n",
    "    for k, v in group.items():\n",
    "        if isinstance(v, h5py.Dataset):\n",
    "            data[k] = v[()]\n",
    "        elif isinstance(v, h5py.Group):\n",
    "            data[k] = loadmat_group(v)\n",
    "    return data\n",
    "\n",
    "def loadmat(filename):\n",
    "    \"\"\"\n",
    "    Load Matlab v7.3 format .mat file using h5py.\n",
    "    \"\"\"\n",
    "    try:\n",
    "        with h5py.File(filename, 'r') as f:\n",
    "            data = {}\n",
    "            for k, v in f.items():\n",
    "                if isinstance(v, h5py.Dataset):\n",
    "                    data[k] = v[()]\n",
    "                elif isinstance(v, h5py.Group):\n",
    "                    data[k] = loadmat_group(v)\n",
    "    except OSError as e:\n",
    "        f = loadmat_scipy(filename)\n",
    "        data = {key: value for key, value in f.items() if not key.startswith('__')}\n",
    "    return data\n",
    "\n",
    "data = loadmat(path)\n",
    "print(data['mask'].shape)"
   ]
  }
 ],
 "metadata": {
  "kernelspec": {
   "display_name": "promptmr",
   "language": "python",
   "name": "python3"
  },
  "language_info": {
   "codemirror_mode": {
    "name": "ipython",
    "version": 3
   },
   "file_extension": ".py",
   "mimetype": "text/x-python",
   "name": "python",
   "nbconvert_exporter": "python",
   "pygments_lexer": "ipython3",
   "version": "3.10.16"
  }
 },
 "nbformat": 4,
 "nbformat_minor": 2
}
